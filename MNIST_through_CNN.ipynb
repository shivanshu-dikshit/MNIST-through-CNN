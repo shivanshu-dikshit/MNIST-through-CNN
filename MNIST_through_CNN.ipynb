{
  "nbformat": 4,
  "nbformat_minor": 0,
  "metadata": {
    "colab": {
      "name": "MNIST through CNN",
      "version": "0.3.2",
      "views": {},
      "default_view": {},
      "provenance": [],
      "collapsed_sections": []
    },
    "kernelspec": {
      "name": "python3",
      "display_name": "Python 3"
    },
    "accelerator": "GPU"
  },
  "cells": [
    {
      "metadata": {
        "id": "Zabe-27H88q-",
        "colab_type": "code",
        "colab": {
          "autoexec": {
            "startup": false,
            "wait_interval": 0
          }
        }
      },
      "cell_type": "code",
      "source": [
        "#libraries for further use if needed\n",
        "import numpy as np\n",
        "import pandas as pd"
      ],
      "execution_count": 0,
      "outputs": []
    },
    {
      "metadata": {
        "id": "11JPNlXu9GPA",
        "colab_type": "code",
        "colab": {
          "autoexec": {
            "startup": false,
            "wait_interval": 0
          },
          "output_extras": [
            {
              "item_id": 1
            }
          ],
          "base_uri": "https://localhost:8080/",
          "height": 34
        },
        "outputId": "cd5c54cf-bcf9-4a58-c2d6-09badf33c9a3",
        "executionInfo": {
          "status": "ok",
          "timestamp": 1522619420379,
          "user_tz": -330,
          "elapsed": 927,
          "user": {
            "displayName": "SHIVANSHU DIKSHIT",
            "photoUrl": "https://lh3.googleusercontent.com/a/default-user=s128",
            "userId": "106191547351224885731"
          }
        }
      },
      "cell_type": "code",
      "source": [
        "import tensorflow as tf\n",
        "tf.test.gpu_device_name()"
      ],
      "execution_count": 39,
      "outputs": [
        {
          "output_type": "execute_result",
          "data": {
            "text/plain": [
              "'/device:GPU:0'"
            ]
          },
          "metadata": {
            "tags": []
          },
          "execution_count": 39
        }
      ]
    },
    {
      "metadata": {
        "id": "jo3ehpQH9Ivl",
        "colab_type": "code",
        "colab": {
          "autoexec": {
            "startup": false,
            "wait_interval": 0
          }
        }
      },
      "cell_type": "code",
      "source": [
        "from tensorflow.examples.tutorials.mnist import input_data"
      ],
      "execution_count": 0,
      "outputs": []
    },
    {
      "metadata": {
        "id": "qw36ZY249Xs8",
        "colab_type": "code",
        "colab": {
          "autoexec": {
            "startup": false,
            "wait_interval": 0
          },
          "output_extras": [
            {
              "item_id": 2
            }
          ],
          "base_uri": "https://localhost:8080/",
          "height": 85
        },
        "outputId": "c10525f7-96ed-461c-a2e3-457cc54fdb28",
        "executionInfo": {
          "status": "ok",
          "timestamp": 1522619424168,
          "user_tz": -330,
          "elapsed": 1274,
          "user": {
            "displayName": "SHIVANSHU DIKSHIT",
            "photoUrl": "https://lh3.googleusercontent.com/a/default-user=s128",
            "userId": "106191547351224885731"
          }
        }
      },
      "cell_type": "code",
      "source": [
        "mnist = input_data.read_data_sets(\"/tmp/data/\", one_hot = True)\n",
        "#loading the mnist data set from tensor flow"
      ],
      "execution_count": 41,
      "outputs": [
        {
          "output_type": "stream",
          "text": [
            "Extracting /tmp/data/train-images-idx3-ubyte.gz\n",
            "Extracting /tmp/data/train-labels-idx1-ubyte.gz\n",
            "Extracting /tmp/data/t10k-images-idx3-ubyte.gz\n",
            "Extracting /tmp/data/t10k-labels-idx1-ubyte.gz\n"
          ],
          "name": "stdout"
        }
      ]
    },
    {
      "metadata": {
        "id": "WBLDuB1q9uPM",
        "colab_type": "code",
        "colab": {
          "autoexec": {
            "startup": false,
            "wait_interval": 0
          }
        }
      },
      "cell_type": "code",
      "source": [
        "num_classes = 10 #from  0 - 9\n",
        "batch_size = 128\n",
        "learning_rate= 0.001"
      ],
      "execution_count": 0,
      "outputs": []
    },
    {
      "metadata": {
        "id": "HXPzO9nw9da6",
        "colab_type": "code",
        "colab": {
          "autoexec": {
            "startup": false,
            "wait_interval": 0
          },
          "output_extras": [
            {
              "item_id": 1
            }
          ],
          "base_uri": "https://localhost:8080/",
          "height": 34
        },
        "outputId": "7740461b-87e3-4e3c-e98f-f21945033e37",
        "executionInfo": {
          "status": "ok",
          "timestamp": 1522619427466,
          "user_tz": -330,
          "elapsed": 1147,
          "user": {
            "displayName": "SHIVANSHU DIKSHIT",
            "photoUrl": "https://lh3.googleusercontent.com/a/default-user=s128",
            "userId": "106191547351224885731"
          }
        }
      },
      "cell_type": "code",
      "source": [
        "mnist.train.images.shape"
      ],
      "execution_count": 43,
      "outputs": [
        {
          "output_type": "execute_result",
          "data": {
            "text/plain": [
              "(55000, 784)"
            ]
          },
          "metadata": {
            "tags": []
          },
          "execution_count": 43
        }
      ]
    },
    {
      "metadata": {
        "id": "a1nag_U295ug",
        "colab_type": "code",
        "colab": {
          "autoexec": {
            "startup": false,
            "wait_interval": 0
          },
          "output_extras": [
            {
              "item_id": 1
            }
          ],
          "base_uri": "https://localhost:8080/",
          "height": 34
        },
        "outputId": "e7ce32a9-e1da-403b-c2ce-8b1ce57f0f71",
        "executionInfo": {
          "status": "ok",
          "timestamp": 1522619428977,
          "user_tz": -330,
          "elapsed": 937,
          "user": {
            "displayName": "SHIVANSHU DIKSHIT",
            "photoUrl": "https://lh3.googleusercontent.com/a/default-user=s128",
            "userId": "106191547351224885731"
          }
        }
      },
      "cell_type": "code",
      "source": [
        "mnist.train.labels.shape"
      ],
      "execution_count": 44,
      "outputs": [
        {
          "output_type": "execute_result",
          "data": {
            "text/plain": [
              "(55000, 10)"
            ]
          },
          "metadata": {
            "tags": []
          },
          "execution_count": 44
        }
      ]
    },
    {
      "metadata": {
        "id": "n3Mj9W8P-BrL",
        "colab_type": "code",
        "colab": {
          "autoexec": {
            "startup": false,
            "wait_interval": 0
          }
        }
      },
      "cell_type": "code",
      "source": [
        "x = tf.placeholder(tf.float32, shape = [None, 784])\n",
        "y = tf.placeholder(tf.float32)"
      ],
      "execution_count": 0,
      "outputs": []
    },
    {
      "metadata": {
        "id": "fylfg0lS-3H_",
        "colab_type": "code",
        "colab": {
          "autoexec": {
            "startup": false,
            "wait_interval": 0
          }
        }
      },
      "cell_type": "code",
      "source": [
        "def conv2d(x, w):\n",
        "  return tf.nn.conv2d(x, w, strides = [1,1,1,1], padding = 'SAME')"
      ],
      "execution_count": 0,
      "outputs": []
    },
    {
      "metadata": {
        "id": "FuavNtgh_ag2",
        "colab_type": "code",
        "colab": {
          "autoexec": {
            "startup": false,
            "wait_interval": 0
          }
        }
      },
      "cell_type": "code",
      "source": [
        "def maxpool2d(x):\n",
        "  return tf.nn.max_pool(x, ksize = [1, 2, 2, 1], strides = [1, 2, 2, 1], padding = 'SAME')\n",
        "  "
      ],
      "execution_count": 0,
      "outputs": []
    },
    {
      "metadata": {
        "id": "4wNwkOMI_qny",
        "colab_type": "code",
        "colab": {
          "autoexec": {
            "startup": false,
            "wait_interval": 0
          }
        }
      },
      "cell_type": "code",
      "source": [
        "#defining the waits and neural net\n",
        "#filter size of 3x3\n",
        "def neural_net(x):\n",
        "  weights = {'w_layer1':tf.Variable(tf.random_normal([3,3,1,32])),\n",
        "             'w_layer2':tf.Variable(tf.random_normal([3,3,32,64])),\n",
        "             'w_fc_layer':tf.Variable(tf.random_normal([7*7*64, 1024])),\n",
        "             'w_out_layer':tf.Variable(tf.random_normal([1024, num_classes]))}\n",
        "  \n",
        "  bias = {'b_layer1':tf.Variable(tf.random_normal([32])),\n",
        "          'b_layer2':tf.Variable(tf.random_normal([64])),\n",
        "          'b_fc_layer':tf.Variable(tf.random_normal([1024])),\n",
        "          'b_out_layer':tf.Variable(tf.random_normal([num_classes]))}\n",
        "  \n",
        "  x = tf.reshape(x, shape = [-1, 28, 28, 1])\n",
        "  \n",
        "  layer1 = tf.nn.relu(conv2d(x, weights['w_layer1'] + bias['b_layer1']))\n",
        "  layer1_pool = maxpool2d(layer1)\n",
        "  \n",
        "  layer2 = tf.nn.relu(conv2d(layer1_pool, weights['w_layer2'] + bias['b_layer2']))\n",
        "  layer2_pool = maxpool2d(layer2)\n",
        "  \n",
        "  fc_reshape = tf.reshape(layer2_pool, shape = [-1, 7*7*64])\n",
        "  fc = tf.nn.relu(tf.matmul(fc_reshape, weights['w_fc_layer']) + bias['b_fc_layer'])\n",
        "  \n",
        "  output = tf.matmul(fc, weights['w_out_layer']) + bias['b_out_layer']\n",
        "  \n",
        "  return output"
      ],
      "execution_count": 0,
      "outputs": []
    },
    {
      "metadata": {
        "id": "cMfAZt88ET1l",
        "colab_type": "code",
        "colab": {
          "autoexec": {
            "startup": false,
            "wait_interval": 0
          },
          "output_extras": [
            {
              "item_id": 72
            },
            {
              "item_id": 145
            },
            {
              "item_id": 197
            }
          ],
          "base_uri": "https://localhost:8080/",
          "height": 3417
        },
        "outputId": "08a8bde2-98a8-4d29-962b-75011c22841d",
        "executionInfo": {
          "status": "ok",
          "timestamp": 1522619938822,
          "user_tz": -330,
          "elapsed": 501052,
          "user": {
            "displayName": "SHIVANSHU DIKSHIT",
            "photoUrl": "https://lh3.googleusercontent.com/a/default-user=s128",
            "userId": "106191547351224885731"
          }
        }
      },
      "cell_type": "code",
      "source": [
        "def train_neural_net(x):\n",
        "  \n",
        "  result = neural_net(x)\n",
        "  cost= tf.reduce_mean(tf.nn.softmax_cross_entropy_with_logits(labels = y, logits = result))\n",
        "  optimizer = tf.train.AdamOptimizer(learning_rate = 0.001).minimize(cost)\n",
        "  \n",
        "  \n",
        "  hm_epochs = 100\n",
        "  with tf.Session() as sess:\n",
        "    sess.run(tf.initialize_all_variables())\n",
        "    for epoch in range(hm_epochs):\n",
        "            epoch_loss = 0\n",
        "            for _ in range(int(mnist.train.num_examples/batch_size)):\n",
        "                epoch_x, epoch_y = mnist.train.next_batch(batch_size)\n",
        "                _, c = sess.run([optimizer, cost], feed_dict={x: epoch_x, y: epoch_y})\n",
        "                epoch_loss += c\n",
        "\n",
        "            print('Epoch', epoch, 'completed out of',hm_epochs,'loss:',epoch_loss)\n",
        "\n",
        "            correct = tf.equal(tf.argmax(result, 1), tf.argmax(y, 1))\n",
        "\n",
        "            accuracy = tf.reduce_mean(tf.cast(correct, 'float'))\n",
        "            print('Accuracy:',accuracy.eval({x:mnist.test.images, y:mnist.test.labels}))\n",
        "\n",
        "train_neural_net(x)\n",
        "    \n",
        "\n",
        "        "
      ],
      "execution_count": 49,
      "outputs": [
        {
          "output_type": "stream",
          "text": [
            "Epoch 0 completed out of 100 loss: 8147789.370483398\n",
            "Accuracy: 0.8946\n",
            "Epoch 1 completed out of 100 loss: 1027460.5686645508\n",
            "Accuracy: 0.9331\n",
            "Epoch 2 completed out of 100 loss: 645682.8252563477\n",
            "Accuracy: 0.9366\n",
            "Epoch 3 completed out of 100 loss: 472330.5551147461\n",
            "Accuracy: 0.9357\n",
            "Epoch 4 completed out of 100 loss: 353990.0675125122\n",
            "Accuracy: 0.944\n",
            "Epoch 5 completed out of 100 loss: 278725.11878967285\n",
            "Accuracy: 0.9436\n",
            "Epoch 6 completed out of 100 loss: 225945.09712219238\n",
            "Accuracy: 0.9521\n",
            "Epoch 7 completed out of 100 loss: 200993.96019744873\n",
            "Accuracy: 0.9684\n",
            "Epoch 8 completed out of 100 loss: 150266.45093536377\n",
            "Accuracy: 0.9693\n",
            "Epoch 9 completed out of 100 loss: 134229.37214660645\n",
            "Accuracy: 0.974\n",
            "Epoch 10 completed out of 100 loss: 113283.79471588135\n",
            "Accuracy: 0.9707\n",
            "Epoch 11 completed out of 100 loss: 94735.8717880249\n",
            "Accuracy: 0.9756\n",
            "Epoch 12 completed out of 100 loss: 73137.14137840271\n",
            "Accuracy: 0.9718\n",
            "Epoch 13 completed out of 100 loss: 69995.4824585095\n",
            "Accuracy: 0.9788\n",
            "Epoch 14 completed out of 100 loss: 66558.3840612229\n",
            "Accuracy: 0.9761\n",
            "Epoch 15 completed out of 100 loss: 47776.102809906006\n",
            "Accuracy: 0.9694\n",
            "Epoch 16 completed out of 100 loss: 54879.194475050754\n",
            "Accuracy: 0.9778\n",
            "Epoch 17 completed out of 100 loss: 36756.01681518555\n",
            "Accuracy: 0.9741\n",
            "Epoch 18 completed out of 100 loss: 31765.18377494812\n",
            "Accuracy: 0.9753\n",
            "Epoch 19 completed out of 100 loss: 31676.71566581726\n",
            "Accuracy: 0.9774\n",
            "Epoch 20 completed out of 100 loss: 31861.73515367508\n",
            "Accuracy: 0.9761\n",
            "Epoch 21 completed out of 100 loss: 24235.228748509784\n",
            "Accuracy: 0.9713\n",
            "Epoch 22 completed out of 100 loss: 26405.679941177368\n",
            "Accuracy: 0.979\n",
            "Epoch 23 completed out of 100 loss: 19583.46981048584\n",
            "Accuracy: 0.9671\n",
            "Epoch 24 completed out of 100 loss: 20090.627492427826\n",
            "Accuracy: 0.9757\n",
            "Epoch 25 completed out of 100 loss: 14118.711902618408\n",
            "Accuracy: 0.9808\n",
            "Epoch 26 completed out of 100 loss: 16300.26429012511\n",
            "Accuracy: 0.9808\n",
            "Epoch 27 completed out of 100 loss: 17335.050086975098\n",
            "Accuracy: 0.9772\n",
            "Epoch 28 completed out of 100 loss: 10562.73540650084\n",
            "Accuracy: 0.981\n",
            "Epoch 29 completed out of 100 loss: 11307.706245981155\n",
            "Accuracy: 0.9753\n",
            "Epoch 30 completed out of 100 loss: 9277.11777347719\n",
            "Accuracy: 0.9815\n",
            "Epoch 31 completed out of 100 loss: 8864.667360129326\n",
            "Accuracy: 0.981\n",
            "Epoch 32 completed out of 100 loss: 7260.945192506517\n",
            "Accuracy: 0.9788\n",
            "Epoch 33 completed out of 100 loss: 7930.556963920593\n",
            "Accuracy: 0.9806\n",
            "Epoch 34 completed out of 100 loss: 6459.653314230614\n",
            "Accuracy: 0.9799\n",
            "Epoch 35 completed out of 100 loss: 6760.767203452206\n",
            "Accuracy: 0.9822\n",
            "Epoch 36 completed out of 100 loss: 5137.742341362406\n",
            "Accuracy: 0.9784\n"
          ],
          "name": "stdout"
        },
        {
          "output_type": "stream",
          "text": [
            "Epoch 37 completed out of 100 loss: 4572.380827934481\n",
            "Accuracy: 0.981\n",
            "Epoch 38 completed out of 100 loss: 4538.060393136395\n",
            "Accuracy: 0.9787\n",
            "Epoch 39 completed out of 100 loss: 3221.336440958224\n",
            "Accuracy: 0.9815\n",
            "Epoch 40 completed out of 100 loss: 2838.8473538309163\n",
            "Accuracy: 0.9845\n",
            "Epoch 41 completed out of 100 loss: 4032.371276672523\n",
            "Accuracy: 0.9794\n",
            "Epoch 42 completed out of 100 loss: 3943.7027993944903\n",
            "Accuracy: 0.9837\n",
            "Epoch 43 completed out of 100 loss: 2378.5833230018616\n",
            "Accuracy: 0.9834\n",
            "Epoch 44 completed out of 100 loss: 2856.9139265988088\n",
            "Accuracy: 0.9854\n",
            "Epoch 45 completed out of 100 loss: 2219.657089738836\n",
            "Accuracy: 0.9837\n",
            "Epoch 46 completed out of 100 loss: 2214.600597150624\n",
            "Accuracy: 0.9832\n",
            "Epoch 47 completed out of 100 loss: 2039.9983260631561\n",
            "Accuracy: 0.9842\n",
            "Epoch 48 completed out of 100 loss: 1581.5717252288014\n",
            "Accuracy: 0.9831\n",
            "Epoch 49 completed out of 100 loss: 1237.4491146458313\n",
            "Accuracy: 0.984\n",
            "Epoch 50 completed out of 100 loss: 1557.8392051937644\n",
            "Accuracy: 0.9783\n",
            "Epoch 51 completed out of 100 loss: 1851.0641527185217\n",
            "Accuracy: 0.9824\n",
            "Epoch 52 completed out of 100 loss: 1187.679499576177\n",
            "Accuracy: 0.9846\n",
            "Epoch 53 completed out of 100 loss: 1334.2950588590966\n",
            "Accuracy: 0.9848\n",
            "Epoch 54 completed out of 100 loss: 1063.4474240534423\n",
            "Accuracy: 0.9839\n",
            "Epoch 55 completed out of 100 loss: 981.5148322477398\n",
            "Accuracy: 0.9855\n",
            "Epoch 56 completed out of 100 loss: 1018.7928421554952\n",
            "Accuracy: 0.9852\n",
            "Epoch 57 completed out of 100 loss: 742.8666374450438\n",
            "Accuracy: 0.9835\n",
            "Epoch 58 completed out of 100 loss: 863.54875866688\n",
            "Accuracy: 0.9844\n",
            "Epoch 59 completed out of 100 loss: 992.2702629158266\n",
            "Accuracy: 0.9844\n",
            "Epoch 60 completed out of 100 loss: 633.4879362946375\n",
            "Accuracy: 0.9848\n",
            "Epoch 61 completed out of 100 loss: 777.9288528354373\n",
            "Accuracy: 0.9862\n",
            "Epoch 62 completed out of 100 loss: 911.9812785685062\n",
            "Accuracy: 0.9845\n",
            "Epoch 63 completed out of 100 loss: 689.7272352660193\n",
            "Accuracy: 0.9852\n",
            "Epoch 64 completed out of 100 loss: 464.31373258744134\n",
            "Accuracy: 0.9863\n",
            "Epoch 65 completed out of 100 loss: 730.527562400961\n",
            "Accuracy: 0.9845\n",
            "Epoch 66 completed out of 100 loss: 646.0855970045086\n",
            "Accuracy: 0.9863\n",
            "Epoch 67 completed out of 100 loss: 545.6388150891275\n",
            "Accuracy: 0.985\n",
            "Epoch 68 completed out of 100 loss: 579.499476211509\n",
            "Accuracy: 0.9845\n",
            "Epoch 69 completed out of 100 loss: 528.4719365999176\n",
            "Accuracy: 0.9851\n",
            "Epoch 70 completed out of 100 loss: 312.69436605880037\n",
            "Accuracy: 0.9871\n",
            "Epoch 71 completed out of 100 loss: 429.404132514213\n",
            "Accuracy: 0.9876\n",
            "Epoch 72 completed out of 100 loss: 455.62079836428165\n",
            "Accuracy: 0.9851\n",
            "Epoch 73 completed out of 100 loss: 303.45811231416883\n",
            "Accuracy: 0.9844\n"
          ],
          "name": "stdout"
        },
        {
          "output_type": "stream",
          "text": [
            "Epoch 74 completed out of 100 loss: 345.8356390737461\n",
            "Accuracy: 0.9858\n",
            "Epoch 75 completed out of 100 loss: 425.3814073698595\n",
            "Accuracy: 0.9867\n",
            "Epoch 76 completed out of 100 loss: 440.50283402340983\n",
            "Accuracy: 0.9855\n",
            "Epoch 77 completed out of 100 loss: 190.8101305961609\n",
            "Accuracy: 0.9827\n",
            "Epoch 78 completed out of 100 loss: 268.47451187018305\n",
            "Accuracy: 0.9887\n",
            "Epoch 79 completed out of 100 loss: 280.76182304229474\n",
            "Accuracy: 0.9858\n",
            "Epoch 80 completed out of 100 loss: 358.70016719028354\n",
            "Accuracy: 0.9876\n",
            "Epoch 81 completed out of 100 loss: 359.34794892657055\n",
            "Accuracy: 0.9869\n",
            "Epoch 82 completed out of 100 loss: 296.3971748296094\n",
            "Accuracy: 0.9879\n",
            "Epoch 83 completed out of 100 loss: 300.50037716278894\n",
            "Accuracy: 0.9868\n",
            "Epoch 84 completed out of 100 loss: 167.22606755048037\n",
            "Accuracy: 0.9873\n",
            "Epoch 85 completed out of 100 loss: 370.4121856689453\n",
            "Accuracy: 0.9884\n",
            "Epoch 86 completed out of 100 loss: 262.55063427239656\n",
            "Accuracy: 0.9874\n",
            "Epoch 87 completed out of 100 loss: 218.6207924745977\n",
            "Accuracy: 0.9869\n",
            "Epoch 88 completed out of 100 loss: 207.7682330387178\n",
            "Accuracy: 0.9863\n",
            "Epoch 89 completed out of 100 loss: 164.22651469544508\n",
            "Accuracy: 0.9882\n",
            "Epoch 90 completed out of 100 loss: 227.07946688411172\n",
            "Accuracy: 0.9873\n",
            "Epoch 91 completed out of 100 loss: 268.7851577950561\n",
            "Accuracy: 0.9874\n",
            "Epoch 92 completed out of 100 loss: 298.2876923047006\n",
            "Accuracy: 0.9878\n",
            "Epoch 93 completed out of 100 loss: 126.93972638342524\n",
            "Accuracy: 0.9888\n",
            "Epoch 94 completed out of 100 loss: 134.18788528442383\n",
            "Accuracy: 0.9876\n",
            "Epoch 95 completed out of 100 loss: 173.95683807693422\n",
            "Accuracy: 0.989\n",
            "Epoch 96 completed out of 100 loss: 115.39257153223934\n",
            "Accuracy: 0.9871\n",
            "Epoch 97 completed out of 100 loss: 198.44897402427978\n",
            "Accuracy: 0.9861\n",
            "Epoch 98 completed out of 100 loss: 263.3703565618489\n",
            "Accuracy: 0.988\n",
            "Epoch 99 completed out of 100 loss: 196.56430632977663\n",
            "Accuracy: 0.9889\n"
          ],
          "name": "stdout"
        }
      ]
    },
    {
      "metadata": {
        "id": "gA7fYYlEG8q1",
        "colab_type": "code",
        "colab": {
          "autoexec": {
            "startup": false,
            "wait_interval": 0
          }
        }
      },
      "cell_type": "code",
      "source": [
        ""
      ],
      "execution_count": 0,
      "outputs": []
    },
    {
      "metadata": {
        "id": "OZlYQGj2OL5j",
        "colab_type": "text"
      },
      "cell_type": "markdown",
      "source": [
        "## Epoch 99 completed out of 100 loss: 196.56430632977663\n",
        "## ***Accuracy***: 0.9889\n",
        "## 98% **accurac**y ****"
      ]
    },
    {
      "metadata": {
        "id": "6Jk1CX26OSvM",
        "colab_type": "code",
        "colab": {
          "autoexec": {
            "startup": false,
            "wait_interval": 0
          }
        }
      },
      "cell_type": "code",
      "source": [
        ""
      ],
      "execution_count": 0,
      "outputs": []
    }
  ]
}